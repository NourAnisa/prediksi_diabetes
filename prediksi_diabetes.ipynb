{
  "nbformat": 4,
  "nbformat_minor": 0,
  "metadata": {
    "colab": {
      "provenance": []
    },
    "kernelspec": {
      "name": "python3",
      "display_name": "Python 3"
    },
    "language_info": {
      "name": "python"
    }
  },
  "cells": [
    {
      "cell_type": "markdown",
      "source": [
        "# Mengimpor pustaka yang diperlukan:"
      ],
      "metadata": {
        "id": "seAH_cb5pByu"
      }
    },
    {
      "cell_type": "code",
      "execution_count": null,
      "metadata": {
        "id": "ErF8hCAemfY-"
      },
      "outputs": [],
      "source": [
        "# Langkah 1: Mengimpor pustaka yang diperlukan\n",
        "import pandas as pd\n",
        "from sklearn.model_selection import train_test_split, cross_val_score\n",
        "from sklearn.tree import DecisionTreeClassifier\n",
        "import joblib\n",
        "import matplotlib.pyplot as plt"
      ]
    },
    {
      "cell_type": "markdown",
      "source": [
        "Mengimpor pustaka untuk manipulasi data (pandas), pemodelan dan evaluasi (scikit-learn), penyimpanan model (joblib), dan visualisasi data (matplotlib)."
      ],
      "metadata": {
        "id": "jvfIbrmeo_8V"
      }
    },
    {
      "cell_type": "markdown",
      "source": [
        "# Membuat dataset:"
      ],
      "metadata": {
        "id": "eZpiTb2GpLA0"
      }
    },
    {
      "cell_type": "code",
      "source": [
        "# Langkah 2: Membuat dataset\n",
        "# Membuat data gejala diabetes dan tipe diabetes dalam bentuk dictionary\n",
        "data = {\n",
        "    'frekuensi_buang_air_kecil': [1, 1, 0, 0, 1, 0],\n",
        "    'rasa_haus': [1, 1, 0, 0, 1, 0],\n",
        "    'kulit_mulut_kering': [1, 0, 0, 0, 1, 0],\n",
        "    'penurunan_berat_badan': [1, 1, 0, 1, 0, 0],\n",
        "    'kelelahan': [1, 1, 1, 0, 1, 0],\n",
        "    'penglihatan_buram': [1, 0, 1, 0, 0, 0],\n",
        "    'gatal_alat_kelamin': [0, 0, 1, 0, 1, 0],\n",
        "    'penyembuhan_luka_lambat': [0, 0, 1, 0, 1, 0],\n",
        "    'mata_kering': [0, 0, 1, 0, 1, 0],\n",
        "    'kelaparan': [1, 0, 1, 0, 1, 0],\n",
        "    'kulit_bermasalah': [0, 1, 0, 1, 0, 1],\n",
        "    'infeksi_jamur': [1, 0, 1, 0, 1, 0],\n",
        "    'iritasi_genital': [0, 1, 0, 1, 0, 1],\n",
        "    'mudah_tersinggung': [1, 0, 1, 0, 1, 0],\n",
        "    'kesemutan': [0, 1, 0, 1, 0, 1],\n",
        "    'tipe_diabetes': [1, 1, 2, 0, 2, 0]\n",
        "}\n",
        "\n",
        "# Membuat DataFrame dari data gejala dan tipe diabetes\n",
        "df = pd.DataFrame(data)"
      ],
      "metadata": {
        "id": "qamGR4-cmqVg"
      },
      "execution_count": null,
      "outputs": []
    },
    {
      "cell_type": "markdown",
      "source": [
        "Membuat data gejala diabetes dan tipe diabetes dalam bentuk dictionary dan mengonversinya menjadi DataFrame df."
      ],
      "metadata": {
        "id": "Y3kwX3MApMqx"
      }
    },
    {
      "cell_type": "markdown",
      "source": [
        "# Melatih model dengan cross-validation:"
      ],
      "metadata": {
        "id": "wz6Z8ZyrpSAk"
      }
    },
    {
      "cell_type": "code",
      "source": [
        "#Langkah 3: Melatih model dengan cross-validation\n",
        "# Memisahkan fitur (X) dan label (y) dari DataFrame\n",
        "X = df.drop(columns=['tipe_diabetes'])\n",
        "y = df['tipe_diabetes']\n",
        "\n",
        "# Membuat objek DecisionTreeClassifier\n",
        "model = DecisionTreeClassifier()\n",
        "\n",
        "# Melakukan cross-validation dengan 2-fold dan menyimpan skor cross-validation\n",
        "cross_val_scores = cross_val_score(model, X, y, cv=2)\n",
        "\n",
        "# Menampilkan skor cross-validation dan nilai rata-ratanya\n",
        "print(f'Cross-validation scores: {cross_val_scores}')\n",
        "print(f'Mean cross-validation score: {cross_val_scores.mean():.2f}')\n",
        "\n",
        "# Melatih model pada seluruh dataset\n",
        "model.fit(X, y)\n"
      ],
      "metadata": {
        "colab": {
          "base_uri": "https://localhost:8080/",
          "height": 109
        },
        "id": "zJYl9TqNmt6E",
        "outputId": "ee7b8968-b5bc-4d42-ffa7-3fe99a18662f"
      },
      "execution_count": null,
      "outputs": [
        {
          "output_type": "stream",
          "name": "stdout",
          "text": [
            "Cross-validation scores: [0.33333333 0.33333333]\n",
            "Mean cross-validation score: 0.33\n"
          ]
        },
        {
          "output_type": "execute_result",
          "data": {
            "text/plain": [
              "DecisionTreeClassifier()"
            ],
            "text/html": [
              "<style>#sk-container-id-1 {color: black;background-color: white;}#sk-container-id-1 pre{padding: 0;}#sk-container-id-1 div.sk-toggleable {background-color: white;}#sk-container-id-1 label.sk-toggleable__label {cursor: pointer;display: block;width: 100%;margin-bottom: 0;padding: 0.3em;box-sizing: border-box;text-align: center;}#sk-container-id-1 label.sk-toggleable__label-arrow:before {content: \"▸\";float: left;margin-right: 0.25em;color: #696969;}#sk-container-id-1 label.sk-toggleable__label-arrow:hover:before {color: black;}#sk-container-id-1 div.sk-estimator:hover label.sk-toggleable__label-arrow:before {color: black;}#sk-container-id-1 div.sk-toggleable__content {max-height: 0;max-width: 0;overflow: hidden;text-align: left;background-color: #f0f8ff;}#sk-container-id-1 div.sk-toggleable__content pre {margin: 0.2em;color: black;border-radius: 0.25em;background-color: #f0f8ff;}#sk-container-id-1 input.sk-toggleable__control:checked~div.sk-toggleable__content {max-height: 200px;max-width: 100%;overflow: auto;}#sk-container-id-1 input.sk-toggleable__control:checked~label.sk-toggleable__label-arrow:before {content: \"▾\";}#sk-container-id-1 div.sk-estimator input.sk-toggleable__control:checked~label.sk-toggleable__label {background-color: #d4ebff;}#sk-container-id-1 div.sk-label input.sk-toggleable__control:checked~label.sk-toggleable__label {background-color: #d4ebff;}#sk-container-id-1 input.sk-hidden--visually {border: 0;clip: rect(1px 1px 1px 1px);clip: rect(1px, 1px, 1px, 1px);height: 1px;margin: -1px;overflow: hidden;padding: 0;position: absolute;width: 1px;}#sk-container-id-1 div.sk-estimator {font-family: monospace;background-color: #f0f8ff;border: 1px dotted black;border-radius: 0.25em;box-sizing: border-box;margin-bottom: 0.5em;}#sk-container-id-1 div.sk-estimator:hover {background-color: #d4ebff;}#sk-container-id-1 div.sk-parallel-item::after {content: \"\";width: 100%;border-bottom: 1px solid gray;flex-grow: 1;}#sk-container-id-1 div.sk-label:hover label.sk-toggleable__label {background-color: #d4ebff;}#sk-container-id-1 div.sk-serial::before {content: \"\";position: absolute;border-left: 1px solid gray;box-sizing: border-box;top: 0;bottom: 0;left: 50%;z-index: 0;}#sk-container-id-1 div.sk-serial {display: flex;flex-direction: column;align-items: center;background-color: white;padding-right: 0.2em;padding-left: 0.2em;position: relative;}#sk-container-id-1 div.sk-item {position: relative;z-index: 1;}#sk-container-id-1 div.sk-parallel {display: flex;align-items: stretch;justify-content: center;background-color: white;position: relative;}#sk-container-id-1 div.sk-item::before, #sk-container-id-1 div.sk-parallel-item::before {content: \"\";position: absolute;border-left: 1px solid gray;box-sizing: border-box;top: 0;bottom: 0;left: 50%;z-index: -1;}#sk-container-id-1 div.sk-parallel-item {display: flex;flex-direction: column;z-index: 1;position: relative;background-color: white;}#sk-container-id-1 div.sk-parallel-item:first-child::after {align-self: flex-end;width: 50%;}#sk-container-id-1 div.sk-parallel-item:last-child::after {align-self: flex-start;width: 50%;}#sk-container-id-1 div.sk-parallel-item:only-child::after {width: 0;}#sk-container-id-1 div.sk-dashed-wrapped {border: 1px dashed gray;margin: 0 0.4em 0.5em 0.4em;box-sizing: border-box;padding-bottom: 0.4em;background-color: white;}#sk-container-id-1 div.sk-label label {font-family: monospace;font-weight: bold;display: inline-block;line-height: 1.2em;}#sk-container-id-1 div.sk-label-container {text-align: center;}#sk-container-id-1 div.sk-container {/* jupyter's `normalize.less` sets `[hidden] { display: none; }` but bootstrap.min.css set `[hidden] { display: none !important; }` so we also need the `!important` here to be able to override the default hidden behavior on the sphinx rendered scikit-learn.org. See: https://github.com/scikit-learn/scikit-learn/issues/21755 */display: inline-block !important;position: relative;}#sk-container-id-1 div.sk-text-repr-fallback {display: none;}</style><div id=\"sk-container-id-1\" class=\"sk-top-container\"><div class=\"sk-text-repr-fallback\"><pre>DecisionTreeClassifier()</pre><b>In a Jupyter environment, please rerun this cell to show the HTML representation or trust the notebook. <br />On GitHub, the HTML representation is unable to render, please try loading this page with nbviewer.org.</b></div><div class=\"sk-container\" hidden><div class=\"sk-item\"><div class=\"sk-estimator sk-toggleable\"><input class=\"sk-toggleable__control sk-hidden--visually\" id=\"sk-estimator-id-1\" type=\"checkbox\" checked><label for=\"sk-estimator-id-1\" class=\"sk-toggleable__label sk-toggleable__label-arrow\">DecisionTreeClassifier</label><div class=\"sk-toggleable__content\"><pre>DecisionTreeClassifier()</pre></div></div></div></div></div>"
            ]
          },
          "metadata": {},
          "execution_count": 26
        }
      ]
    },
    {
      "cell_type": "markdown",
      "source": [
        "Memisahkan fitur (X) dan label (y), membuat model Decision Tree, melakukan cross-validation dengan 2 fold, menampilkan skor cross-validation dan nilai rata-ratanya, melatih model pada seluruh dataset, dan menyimpan model yang telah dilatih ke file 'diabetes_model.pkl'."
      ],
      "metadata": {
        "id": "m-7k0IqKpV6L"
      }
    },
    {
      "cell_type": "code",
      "source": [
        "# Menyimpan model yang telah dilatih ke file 'diabetes_model.pkl'\n",
        "joblib.dump(model, 'diabetes_model.pkl')"
      ],
      "metadata": {
        "colab": {
          "base_uri": "https://localhost:8080/"
        },
        "id": "sWmIYIEAqsJO",
        "outputId": "fa0feba7-8905-48f5-ddf4-896d26f6a6d8"
      },
      "execution_count": null,
      "outputs": [
        {
          "output_type": "execute_result",
          "data": {
            "text/plain": [
              "['diabetes_model.pkl']"
            ]
          },
          "metadata": {},
          "execution_count": 31
        }
      ]
    },
    {
      "cell_type": "markdown",
      "source": [
        "# Memuat model:"
      ],
      "metadata": {
        "id": "R0fGZRhVpbS0"
      }
    },
    {
      "cell_type": "code",
      "source": [
        "# Langkah 4: Memuat model\n",
        "# Memuat model dari file 'diabetes_model.pkl'\n",
        "model = joblib.load('diabetes_model.pkl')"
      ],
      "metadata": {
        "id": "FmQSBtt5nCRt"
      },
      "execution_count": null,
      "outputs": []
    },
    {
      "cell_type": "markdown",
      "source": [
        "Memuat model dari file 'diabetes_model.pkl'."
      ],
      "metadata": {
        "id": "qI4rJoQDpfwO"
      }
    },
    {
      "cell_type": "markdown",
      "source": [
        "# Membuat fungsi untuk input dinamis dan melakukan prediksi:"
      ],
      "metadata": {
        "id": "-oTc_uhFphEB"
      }
    },
    {
      "cell_type": "code",
      "source": [
        "# Langkah 5: Membuat fungsi untuk input dinamis dan melakukan prediksi\n",
        "def prediksi_diabetes():\n",
        "    # Mengambil input dari pengguna untuk setiap gejala\n",
        "    gejala = {\n",
        "        'frekuensi_buang_air_kecil': int(input(\"Frekuensi buang air kecil sering(0 atau 1): \")),\n",
        "        'rasa_haus': int(input(\"Sering merasa haus berlebihan (0 atau 1): \")),\n",
        "        'kulit_mulut_kering': int(input(\"Kulit dan mulut kering (0 atau 1): \")),\n",
        "        'penurunan_berat_badan': int(input(\"Penurunan berat badan drastis (0 atau 1): \")),\n",
        "        'kelelahan': int(input(\"sering merasa kelelahan (0 atau 1): \")),\n",
        "        'penglihatan_buram': int(input(\"Penglihatan buram (0 atau 1): \")),\n",
        "        'gatal_alat_kelamin': int(input(\"Gatal di sekitar alat kelamin (0 atau 1): \")),\n",
        "        'penyembuhan_luka_lambat': int(input(\"Penyembuhan luka yang lambat (0 atau 1): \")),\n",
        "        'mata_kering': int(input(\"Mata kering (0 atau 1): \")),\n",
        "        'kelaparan': int(input(\"Sering Merasa kelaparan (0 atau 1): \")),\n",
        "        'kulit_bermasalah': int(input(\"Kulit jadi bermasalah/kusam (0 atau 1): \")),\n",
        "        'infeksi_jamur': int(input(\"Infeksi jamur (0 atau 1): \")),\n",
        "        'iritasi_genital': int(input(\"Iritasi genital (0 atau 1): \")),\n",
        "        'mudah_tersinggung': int(input(\"Keletihan dan mudah tersinggung (0 atau 1): \")),\n",
        "        'kesemutan': int(input(\"Kesemutan atau mati rasa (0 atau 1): \"))\n",
        "    }\n",
        "\n",
        "    # Membuat DataFrame dari gejala yang diinput oleh pengguna\n",
        "    gejala_df = pd.DataFrame([gejala])\n",
        "\n",
        "    # Melakukan prediksi menggunakan model yang telah dilatih\n",
        "    prediksi = model.predict(gejala_df)[0]\n",
        "\n",
        "    # Menentukan hasil prediksi berdasarkan nilai prediksi\n",
        "    if prediksi == 1:\n",
        "        hasil_prediksi = \"Diabetes Tipe 1\"\n",
        "    elif prediksi == 2:\n",
        "        hasil_prediksi = \"Diabetes Tipe 2\"\n",
        "    else:\n",
        "        hasil_prediksi = \"Tidak ada diabetes\"\n",
        "\n",
        "    # Menampilkan hasil prediksi\n",
        "    print(f'Prediksi: {hasil_prediksi}')\n",
        "\n",
        "# Memanggil fungsi untuk input dinamis dan prediksi\n",
        "prediksi_diabetes()"
      ],
      "metadata": {
        "colab": {
          "base_uri": "https://localhost:8080/"
        },
        "id": "20ZJRNZVnGOb",
        "outputId": "f509fcb7-fac5-4cb2-c72b-6e085c862c3d"
      },
      "execution_count": null,
      "outputs": [
        {
          "output_type": "stream",
          "name": "stdout",
          "text": [
            "Frekuensi buang air kecil sering(0 atau 1): 1\n",
            "Sering merasa haus berlebihan (0 atau 1): 1\n",
            "Kulit dan mulut kering (0 atau 1): 0\n",
            "Penurunan berat badan drastis (0 atau 1): 1\n",
            "sering merasa kelelahan (0 atau 1): 1\n",
            "Penglihatan buram (0 atau 1): 0\n",
            "Gatal di sekitar alat kelamin (0 atau 1): 1\n",
            "Penyembuhan luka yang lambat (0 atau 1): 1\n",
            "Mata kering (0 atau 1): 0\n",
            "Sering Merasa kelaparan (0 atau 1): 1\n",
            "Kulit jadi bermasalah/kusam (0 atau 1): 1\n",
            "Infeksi jamur (0 atau 1): 0\n",
            "Iritasi genital (0 atau 1): 1\n",
            "Keletihan dan mudah tersinggung (0 atau 1): 1\n",
            "Kesemutan atau mati rasa (0 atau 1): 1\n",
            "Prediksi: Diabetes Tipe 1\n"
          ]
        }
      ]
    },
    {
      "cell_type": "markdown",
      "source": [
        "Membuat fungsi prediksi_diabetes yang meminta input gejala dari pengguna, membuat DataFrame dari input tersebut, melakukan prediksi menggunakan model yang telah dilatih, menentukan hasil prediksi berdasarkan nilai prediksi, dan menampilkan hasil prediksi."
      ],
      "metadata": {
        "id": "--8JXQX5pmwt"
      }
    },
    {
      "cell_type": "markdown",
      "source": [
        "# Menampilkan grafik cross-validation scores:"
      ],
      "metadata": {
        "id": "GYF-C6QgppW0"
      }
    },
    {
      "cell_type": "code",
      "source": [
        "# Langkah 6: Menampilkan grafik cross-validation scores\n",
        "# Membuat grafik untuk menampilkan skor cross-validation\n",
        "plt.figure(figsize=(10, 6))\n",
        "plt.plot(cross_val_scores, marker='o', linestyle='--', color='b')\n",
        "plt.title('Cross-Validation Scores')\n",
        "plt.xlabel('Fold')\n",
        "plt.ylabel('Accuracy')\n",
        "plt.ylim(0, 1)\n",
        "plt.show()\n",
        "\n",
        "# Menampilkan nilai akurasi rata-rata\n",
        "print(f'Nilai akurasi rata-rata: {cross_val_scores.mean():.2f}')"
      ],
      "metadata": {
        "colab": {
          "base_uri": "https://localhost:8080/",
          "height": 581
        },
        "id": "cMR-Aoi0nIjx",
        "outputId": "9ed8944b-a8a9-4773-bf0b-5543f1423fb6"
      },
      "execution_count": null,
      "outputs": [
        {
          "output_type": "display_data",
          "data": {
            "text/plain": [
              "<Figure size 1000x600 with 1 Axes>"
            ],
            "image/png": "[encoded data removed]"
          },
          "metadata": {}
        },
        {
          "output_type": "stream",
          "name": "stdout",
          "text": [
            "Nilai akurasi rata-rata: 0.33\n"
          ]
        }
      ]
    },
    {
      "cell_type": "markdown",
      "source": [
        "Membuat grafik untuk menampilkan skor cross-validation, menetapkan judul dan label sumbu, menampilkan grafik, dan menampilkan nilai akurasi rata-rata."
      ],
      "metadata": {
        "id": "EBFNSDisseHQ"
      }
    }
  ]
}